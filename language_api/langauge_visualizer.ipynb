{
 "cells": [
  {
   "cell_type": "code",
   "execution_count": 1,
   "outputs": [
    {
     "name": "stdout",
     "output_type": "stream",
     "text": [
      "Requirement already satisfied: matplot in /Users/davide/.conda/envs/stats/lib/python3.8/site-packages (0.1.9)\r\n",
      "Requirement already satisfied: matplotlib>=3.1.1 in /Users/davide/.conda/envs/stats/lib/python3.8/site-packages (from matplot) (3.3.4)\r\n",
      "Requirement already satisfied: pyloco>=0.0.134 in /Users/davide/.conda/envs/stats/lib/python3.8/site-packages (from matplot) (0.0.139)\r\n",
      "Requirement already satisfied: cycler>=0.10 in /Users/davide/.conda/envs/stats/lib/python3.8/site-packages (from matplotlib>=3.1.1->matplot) (0.10.0)\r\n",
      "Requirement already satisfied: pyparsing!=2.0.4,!=2.1.2,!=2.1.6,>=2.0.3 in /Users/davide/.conda/envs/stats/lib/python3.8/site-packages (from matplotlib>=3.1.1->matplot) (2.4.7)\r\n",
      "Requirement already satisfied: numpy>=1.15 in /Users/davide/.conda/envs/stats/lib/python3.8/site-packages (from matplotlib>=3.1.1->matplot) (1.20.1)\r\n",
      "Requirement already satisfied: python-dateutil>=2.1 in /Users/davide/.conda/envs/stats/lib/python3.8/site-packages (from matplotlib>=3.1.1->matplot) (2.8.1)\r\n",
      "Requirement already satisfied: pillow>=6.2.0 in /Users/davide/.conda/envs/stats/lib/python3.8/site-packages (from matplotlib>=3.1.1->matplot) (8.1.2)\r\n",
      "Requirement already satisfied: kiwisolver>=1.0.1 in /Users/davide/.conda/envs/stats/lib/python3.8/site-packages (from matplotlib>=3.1.1->matplot) (1.3.1)\r\n",
      "Requirement already satisfied: six in /Users/davide/.conda/envs/stats/lib/python3.8/site-packages (from cycler>=0.10->matplotlib>=3.1.1->matplot) (1.15.0)\r\n",
      "Requirement already satisfied: SimpleWebSocketServer in /Users/davide/.conda/envs/stats/lib/python3.8/site-packages (from pyloco>=0.0.134->matplot) (0.1.1)\r\n",
      "Requirement already satisfied: websocket-client in /Users/davide/.conda/envs/stats/lib/python3.8/site-packages (from pyloco>=0.0.134->matplot) (0.58.0)\r\n",
      "Requirement already satisfied: typing in /Users/davide/.conda/envs/stats/lib/python3.8/site-packages (from pyloco>=0.0.134->matplot) (3.7.4.3)\r\n",
      "Requirement already satisfied: twine in /Users/davide/.conda/envs/stats/lib/python3.8/site-packages (from pyloco>=0.0.134->matplot) (3.4.1)\r\n",
      "Requirement already satisfied: ushlex in /Users/davide/.conda/envs/stats/lib/python3.8/site-packages (from pyloco>=0.0.134->matplot) (0.99.1)\r\n",
      "Requirement already satisfied: six in /Users/davide/.conda/envs/stats/lib/python3.8/site-packages (from cycler>=0.10->matplotlib>=3.1.1->matplot) (1.15.0)\r\n",
      "Requirement already satisfied: colorama>=0.4.3 in /Users/davide/.conda/envs/stats/lib/python3.8/site-packages (from twine->pyloco>=0.0.134->matplot) (0.4.4)\r\n",
      "Requirement already satisfied: pkginfo>=1.4.2 in /Users/davide/.conda/envs/stats/lib/python3.8/site-packages (from twine->pyloco>=0.0.134->matplot) (1.7.0)\r\n",
      "Requirement already satisfied: tqdm>=4.14 in /Users/davide/.conda/envs/stats/lib/python3.8/site-packages (from twine->pyloco>=0.0.134->matplot) (4.59.0)\r\n",
      "Requirement already satisfied: rfc3986>=1.4.0 in /Users/davide/.conda/envs/stats/lib/python3.8/site-packages (from twine->pyloco>=0.0.134->matplot) (1.4.0)\r\n",
      "Requirement already satisfied: readme-renderer>=21.0 in /Users/davide/.conda/envs/stats/lib/python3.8/site-packages (from twine->pyloco>=0.0.134->matplot) (29.0)\r\n",
      "Requirement already satisfied: requests-toolbelt!=0.9.0,>=0.8.0 in /Users/davide/.conda/envs/stats/lib/python3.8/site-packages (from twine->pyloco>=0.0.134->matplot) (0.9.1)\r\n",
      "Requirement already satisfied: requests>=2.20 in /Users/davide/.conda/envs/stats/lib/python3.8/site-packages (from twine->pyloco>=0.0.134->matplot) (2.25.1)\r\n",
      "Requirement already satisfied: keyring>=15.1 in /Users/davide/.conda/envs/stats/lib/python3.8/site-packages (from twine->pyloco>=0.0.134->matplot) (23.0.0)\r\n",
      "Requirement already satisfied: importlib-metadata>=3.6 in /Users/davide/.conda/envs/stats/lib/python3.8/site-packages (from twine->pyloco>=0.0.134->matplot) (3.7.3)\r\n",
      "Requirement already satisfied: zipp>=0.5 in /Users/davide/.conda/envs/stats/lib/python3.8/site-packages (from importlib-metadata>=3.6->twine->pyloco>=0.0.134->matplot) (3.4.1)\r\n",
      "Requirement already satisfied: importlib-metadata>=3.6 in /Users/davide/.conda/envs/stats/lib/python3.8/site-packages (from twine->pyloco>=0.0.134->matplot) (3.7.3)\r\n",
      "Requirement already satisfied: six in /Users/davide/.conda/envs/stats/lib/python3.8/site-packages (from cycler>=0.10->matplotlib>=3.1.1->matplot) (1.15.0)\r\n",
      "Requirement already satisfied: Pygments>=2.5.1 in /Users/davide/.conda/envs/stats/lib/python3.8/site-packages (from readme-renderer>=21.0->twine->pyloco>=0.0.134->matplot) (2.8.1)\r\n",
      "Requirement already satisfied: bleach>=2.1.0 in /Users/davide/.conda/envs/stats/lib/python3.8/site-packages (from readme-renderer>=21.0->twine->pyloco>=0.0.134->matplot) (3.3.0)\r\n",
      "Requirement already satisfied: docutils>=0.13.1 in /Users/davide/.conda/envs/stats/lib/python3.8/site-packages (from readme-renderer>=21.0->twine->pyloco>=0.0.134->matplot) (0.16)\r\n",
      "Requirement already satisfied: packaging in /Users/davide/.conda/envs/stats/lib/python3.8/site-packages (from bleach>=2.1.0->readme-renderer>=21.0->twine->pyloco>=0.0.134->matplot) (20.9)\r\n",
      "Requirement already satisfied: webencodings in /Users/davide/.conda/envs/stats/lib/python3.8/site-packages (from bleach>=2.1.0->readme-renderer>=21.0->twine->pyloco>=0.0.134->matplot) (0.5.1)\r\n",
      "Requirement already satisfied: six in /Users/davide/.conda/envs/stats/lib/python3.8/site-packages (from cycler>=0.10->matplotlib>=3.1.1->matplot) (1.15.0)\r\n",
      "Requirement already satisfied: pyparsing!=2.0.4,!=2.1.2,!=2.1.6,>=2.0.3 in /Users/davide/.conda/envs/stats/lib/python3.8/site-packages (from matplotlib>=3.1.1->matplot) (2.4.7)\r\n",
      "Requirement already satisfied: urllib3<1.27,>=1.21.1 in /Users/davide/.conda/envs/stats/lib/python3.8/site-packages (from requests>=2.20->twine->pyloco>=0.0.134->matplot) (1.26.4)\r\n",
      "Requirement already satisfied: chardet<5,>=3.0.2 in /Users/davide/.conda/envs/stats/lib/python3.8/site-packages (from requests>=2.20->twine->pyloco>=0.0.134->matplot) (4.0.0)\r\n",
      "Requirement already satisfied: idna<3,>=2.5 in /Users/davide/.conda/envs/stats/lib/python3.8/site-packages (from requests>=2.20->twine->pyloco>=0.0.134->matplot) (2.10)\r\n",
      "Requirement already satisfied: certifi>=2017.4.17 in /Users/davide/.conda/envs/stats/lib/python3.8/site-packages (from requests>=2.20->twine->pyloco>=0.0.134->matplot) (2020.12.5)\r\n",
      "Requirement already satisfied: requests>=2.20 in /Users/davide/.conda/envs/stats/lib/python3.8/site-packages (from twine->pyloco>=0.0.134->matplot) (2.25.1)\r\n",
      "Requirement already satisfied: six in /Users/davide/.conda/envs/stats/lib/python3.8/site-packages (from cycler>=0.10->matplotlib>=3.1.1->matplot) (1.15.0)\r\n",
      "Requirement already satisfied: pandas in /Users/davide/.local/lib/python3.8/site-packages (1.2.3)\r\n",
      "Requirement already satisfied: pytz>=2017.3 in /Users/davide/.conda/envs/stats/lib/python3.8/site-packages (from pandas) (2021.1)\r\n",
      "Requirement already satisfied: numpy>=1.16.5 in /Users/davide/.conda/envs/stats/lib/python3.8/site-packages (from pandas) (1.20.1)\r\n",
      "Requirement already satisfied: python-dateutil>=2.7.3 in /Users/davide/.conda/envs/stats/lib/python3.8/site-packages (from pandas) (2.8.1)\r\n",
      "Requirement already satisfied: six>=1.5 in /Users/davide/.conda/envs/stats/lib/python3.8/site-packages (from python-dateutil>=2.7.3->pandas) (1.15.0)\r\n",
      "Requirement already satisfied: numpy in /Users/davide/.conda/envs/stats/lib/python3.8/site-packages (1.20.1)\r\n",
      "Requirement already satisfied: matplotlib in /Users/davide/.conda/envs/stats/lib/python3.8/site-packages (3.3.4)\r\n",
      "Requirement already satisfied: cycler>=0.10 in /Users/davide/.conda/envs/stats/lib/python3.8/site-packages (from matplotlib) (0.10.0)\r\n",
      "Requirement already satisfied: numpy>=1.15 in /Users/davide/.conda/envs/stats/lib/python3.8/site-packages (from matplotlib) (1.20.1)\r\n",
      "Requirement already satisfied: pillow>=6.2.0 in /Users/davide/.conda/envs/stats/lib/python3.8/site-packages (from matplotlib) (8.1.2)\r\n",
      "Requirement already satisfied: pyparsing!=2.0.4,!=2.1.2,!=2.1.6,>=2.0.3 in /Users/davide/.conda/envs/stats/lib/python3.8/site-packages (from matplotlib) (2.4.7)\r\n",
      "Requirement already satisfied: kiwisolver>=1.0.1 in /Users/davide/.conda/envs/stats/lib/python3.8/site-packages (from matplotlib) (1.3.1)\r\n",
      "Requirement already satisfied: python-dateutil>=2.1 in /Users/davide/.conda/envs/stats/lib/python3.8/site-packages (from matplotlib) (2.8.1)\r\n",
      "Requirement already satisfied: six in /Users/davide/.conda/envs/stats/lib/python3.8/site-packages (from cycler>=0.10->matplotlib) (1.15.0)\r\n",
      "Requirement already satisfied: six in /Users/davide/.conda/envs/stats/lib/python3.8/site-packages (from cycler>=0.10->matplotlib) (1.15.0)\r\n"
     ]
    }
   ],
   "source": [
    "import pip\n",
    "\n",
    "!pip install matplot\n",
    "\n",
    "# install pandas\n",
    "%matplotlib inline\n",
    "! pip install --user pandas\n",
    "! pip install --user numpy\n",
    "! pip install --user matplotlib"
   ],
   "metadata": {
    "collapsed": false,
    "pycharm": {
     "name": "#%%\n"
    }
   }
  },
  {
   "cell_type": "code",
   "execution_count": 2,
   "metadata": {
    "collapsed": true
   },
   "outputs": [],
   "source": [
    "base_api_url=\"http://localhost:8080/\"\n",
    "test_text=\"\"\"\\\n",
    "Deutsche Bank today announced the launch of GEM Connect, a component-based solution designed to address workflow challenges across collections, payments, funding and FX in APAC markets with capital restrictions.\n",
    "\n",
    "Developed by the bankís Corporate Bank and Fixed Income & Currencies business units in APAC, GEM Connect links treasury processes together into automated workflows, simplifying complex processes for clients moving money to, from and across markets with capital restrictions.\n",
    "\n",
    "Using any combination of GEM Connectís components, such as its rules-based FX execution tool and payment and hedge matching solution, Deutsche Bank is able to provide a one-stop liquidity and FX management solution for its clients in emerging markets such as India, Indonesia, Korea, Mainland China, Malaysia, Philippines, Taiwan and Thailand.\n",
    "\n",
    "Use cases can include:\n",
    "- Target balance automation to support up and downstream cross-border intra-company payments, with or without an account to streamline liquidity or commercial payment objectives.\n",
    "- Automated reconciliation of payments and collections against FX hedge contracts to speed up cross-border settlements, reduce hedging costs and achieve operational efficiency.\n",
    "- Automated execution of onshore payments or receipts with a hedge adjustment to reduce basis risk and periods of open market risk for FX execution outside Asia time zones.\n",
    "\n",
    "GEM Connect will also be rolled out in other emerging markets outside of the region.\n",
    "\n",
    "APAC Head of Corporate Bank and Fixed Income & Currencies, David Lynne, said: ìBy removing manual processes and currency risk in intra-company cross-border transactions involving emerging markets, Deutsche Bank addresses real problems faced by our corporate clients. GEM Connect is a turning point. It will play a key role in helping treasurers to better manage their liquidity both at group and subsidiary levels. We will continue to invest in integrated platform technology in order to provide seamless client solutions.\n",
    "\"\"\"\n"
   ]
  },
  {
   "cell_type": "code",
   "execution_count": 3,
   "outputs": [
    {
     "name": "stdout",
     "output_type": "stream",
     "text": [
      "[\n",
      "  {\n",
      "    \"index\": 1, \n",
      "    \"label\": \"neutral\", \n",
      "    \"magnitude\": 0.0, \n",
      "    \"score\": 0.0, \n",
      "    \"text\": \"Deutsche Bank today announced the launch of GEM Connect, a component-based solution designed to address workflow challenges across collections, payments, funding and FX in APAC markets with capital restrictions.\"\n",
      "  }, \n",
      "  {\n",
      "    \"index\": 2, \n",
      "    \"label\": \"neutral\", \n",
      "    \"magnitude\": 0.0, \n",
      "    \"score\": 0.0, \n",
      "    \"text\": \"Developed by the bank\\u00eds Corporate Bank and Fixed Income & Currencies business units in APAC, GEM Connect links treasury processes together into automated workflows, simplifying complex processes for clients moving money to, from and across markets with capital restrictions.\"\n",
      "  }, \n",
      "  {\n",
      "    \"index\": 3, \n",
      "    \"label\": \"positive\", \n",
      "    \"magnitude\": 0.6000000238418579, \n",
      "    \"score\": 0.6000000238418579, \n",
      "    \"text\": \"Using any combination of GEM Connect\\u00eds components, such as its rules-based FX execution tool and payment and hedge matching solution, Deutsche Bank is able to provide a one-stop liquidity and FX management solution for its clients in emerging markets such as India, Indonesia, Korea, Mainland China, Malaysia, Philippines, Taiwan and Thailand.\"\n",
      "  }, \n",
      "  {\n",
      "    \"index\": 4, \n",
      "    \"label\": \"neutral\", \n",
      "    \"magnitude\": 0.0, \n",
      "    \"score\": 0.0, \n",
      "    \"text\": \"Use cases can include:\\n- Target balance automation to support up and downstream cross-border intra-company payments, with or without an account to streamline liquidity or commercial payment objectives.\"\n",
      "  }, \n",
      "  {\n",
      "    \"index\": 5, \n",
      "    \"label\": \"positive\", \n",
      "    \"magnitude\": 0.10000000149011612, \n",
      "    \"score\": 0.10000000149011612, \n",
      "    \"text\": \"- Automated reconciliation of payments and collections against FX hedge contracts to speed up cross-border settlements, reduce hedging costs and achieve operational efficiency.\"\n",
      "  }, \n",
      "  {\n",
      "    \"index\": 6, \n",
      "    \"label\": \"neutral\", \n",
      "    \"magnitude\": 0.0, \n",
      "    \"score\": 0.0, \n",
      "    \"text\": \"- Automated execution of onshore payments or receipts with a hedge adjustment to reduce basis risk and periods of open market risk for FX execution outside Asia time zones.\"\n",
      "  }, \n",
      "  {\n",
      "    \"index\": 7, \n",
      "    \"label\": \"positive\", \n",
      "    \"magnitude\": 0.10000000149011612, \n",
      "    \"score\": 0.10000000149011612, \n",
      "    \"text\": \"GEM Connect will also be rolled out in other emerging markets outside of the region.\"\n",
      "  }, \n",
      "  {\n",
      "    \"index\": 8, \n",
      "    \"label\": \"positive\", \n",
      "    \"magnitude\": 0.20000000298023224, \n",
      "    \"score\": 0.20000000298023224, \n",
      "    \"text\": \"APAC Head of Corporate Bank and Fixed Income & Currencies, David Lynne, said: \\u00ecBy removing manual processes and currency risk in intra-company cross-border transactions involving emerging markets, Deutsche Bank addresses real problems faced by our corporate clients.\"\n",
      "  }, \n",
      "  {\n",
      "    \"index\": 9, \n",
      "    \"label\": \"positive\", \n",
      "    \"magnitude\": 0.6000000238418579, \n",
      "    \"score\": 0.6000000238418579, \n",
      "    \"text\": \"GEM Connect is a turning point.\"\n",
      "  }, \n",
      "  {\n",
      "    \"index\": 10, \n",
      "    \"label\": \"positive\", \n",
      "    \"magnitude\": 0.6000000238418579, \n",
      "    \"score\": 0.6000000238418579, \n",
      "    \"text\": \"It will play a key role in helping treasurers to better manage their liquidity both at group and subsidiary levels.\"\n",
      "  }, \n",
      "  {\n",
      "    \"index\": 11, \n",
      "    \"label\": \"positive\", \n",
      "    \"magnitude\": 0.6000000238418579, \n",
      "    \"score\": 0.6000000238418579, \n",
      "    \"text\": \"We will continue to invest in integrated platform technology in order to provide seamless client solutions.\"\n",
      "  }\n",
      "]\n",
      "\n"
     ]
    }
   ],
   "source": [
    "import requests\n",
    "import json\n",
    "\n",
    "url=base_api_url + \"api/analyse/sentiment\"\n",
    "\n",
    "payload= {'text': test_text}\n",
    "method=\"POST\"\n",
    "\n",
    "response = requests.request(method, url, json=payload)\n",
    "print(response.text)\n",
    "\n"
   ],
   "metadata": {
    "collapsed": false,
    "pycharm": {
     "name": "#%%\n"
    }
   }
  },
  {
   "cell_type": "code",
   "execution_count": 4,
   "outputs": [],
   "source": [
    "import json\n",
    "import pandas as pd\n",
    "import matplotlib.pyplot as plt\n",
    "\n",
    "pd.set_option('display.max_rows', None)\n",
    "pd.set_option('display.max_columns', None)\n",
    "\n",
    "data = json.loads(response.text)\n",
    "sentiment_df = pd.json_normalize(data)"
   ],
   "metadata": {
    "collapsed": false,
    "pycharm": {
     "name": "#%%\n"
    }
   }
  },
  {
   "cell_type": "markdown",
   "source": [
    "#### Visualise data"
   ],
   "metadata": {
    "collapsed": false
   }
  },
  {
   "cell_type": "code",
   "execution_count": 5,
   "outputs": [
    {
     "name": "stdout",
     "output_type": "stream",
     "text": [
      "           index  magnitude      score\n",
      "count  11.000000  11.000000  11.000000\n",
      "mean    6.000000   0.254545   0.254545\n",
      "std     3.316625   0.280584   0.280584\n",
      "min     1.000000   0.000000   0.000000\n",
      "25%     3.500000   0.000000   0.000000\n",
      "50%     6.000000   0.100000   0.100000\n",
      "75%     8.500000   0.600000   0.600000\n",
      "max    11.000000   0.600000   0.600000\n"
     ]
    }
   ],
   "source": [
    "sentiment_data = sentiment_df.describe()\n",
    "print(sentiment_data)"
   ],
   "metadata": {
    "collapsed": false,
    "pycharm": {
     "name": "#%%\n"
    }
   }
  },
  {
   "cell_type": "markdown",
   "source": [
    "#### Box Plots"
   ],
   "metadata": {
    "collapsed": false,
    "pycharm": {
     "name": "#%% md\n"
    }
   }
  },
  {
   "cell_type": "code",
   "execution_count": 6,
   "outputs": [
    {
     "data": {
      "text/plain": "<Figure size 432x288 with 1 Axes>",
      "image/png": "[encoded data removed]"
     },
     "metadata": {
      "needs_background": "light"
     },
     "output_type": "display_data"
    }
   ],
   "source": [
    "# box plot for the monthly rainfall\n",
    "sentiment_df.plot.box(y='score')\n",
    "plt.show()"
   ],
   "metadata": {
    "collapsed": false,
    "pycharm": {
     "name": "#%%\n"
    }
   }
  },
  {
   "cell_type": "code",
   "execution_count": 7,
   "outputs": [
    {
     "data": {
      "text/plain": "<Figure size 432x288 with 1 Axes>",
      "image/png": "[encoded data removed]"
     },
     "metadata": {
      "needs_background": "light"
     },
     "output_type": "display_data"
    }
   ],
   "source": [
    "# box plot for the monthly rainfall\n",
    "sentiment_df.plot.box(y='magnitude')\n",
    "plt.show()"
   ],
   "metadata": {
    "collapsed": false,
    "pycharm": {
     "name": "#%%\n"
    }
   }
  },
  {
   "cell_type": "markdown",
   "source": [
    "#### Histogram of Sentiment score over Sentence number"
   ],
   "metadata": {
    "collapsed": false
   }
  },
  {
   "cell_type": "code",
   "execution_count": 8,
   "outputs": [
    {
     "data": {
      "text/plain": "<Figure size 432x288 with 1 Axes>",
      "image/png": "[encoded data removed]"
     },
     "metadata": {
      "needs_background": "light"
     },
     "output_type": "display_data"
    }
   ],
   "source": [
    "sentiment_df.plot.bar(y='score',x='index')\n",
    "plt.show()"
   ],
   "metadata": {
    "collapsed": false,
    "pycharm": {
     "name": "#%%\n"
    }
   }
  },
  {
   "cell_type": "markdown",
   "source": [
    "#### Histogram of Sentiment score and magnitude over Sentence number"
   ],
   "metadata": {
    "collapsed": false
   }
  },
  {
   "cell_type": "code",
   "execution_count": 9,
   "outputs": [
    {
     "data": {
      "text/plain": "<Figure size 432x288 with 1 Axes>",
      "image/png": "[encoded data removed]"
     },
     "metadata": {
      "needs_background": "light"
     },
     "output_type": "display_data"
    }
   ],
   "source": [
    "sentiment_df.plot(kind='bar', y=['score', 'magnitude'], x='index')\n",
    "plt.show()"
   ],
   "metadata": {
    "collapsed": false,
    "pycharm": {
     "name": "#%%\n"
    }
   }
  },
  {
   "cell_type": "markdown",
   "source": [
    "#### Retrieve Entities Analysis"
   ],
   "metadata": {
    "collapsed": false,
    "pycharm": {
     "name": "#%% md\n"
    }
   }
  },
  {
   "cell_type": "code",
   "execution_count": 10,
   "outputs": [],
   "source": [
    "url = base_api_url + \"api/analyse/entities\"\n",
    "\n",
    "payload= {'text': test_text}\n",
    "method=\"POST\"\n",
    "\n",
    "response_entities = requests.request(method, url, json=payload)"
   ],
   "metadata": {
    "collapsed": false,
    "pycharm": {
     "name": "#%%\n"
    }
   }
  },
  {
   "cell_type": "markdown",
   "source": [
    "#### Visualise JSON"
   ],
   "metadata": {
    "collapsed": false,
    "pycharm": {
     "name": "#%% md\n"
    }
   }
  },
  {
   "cell_type": "code",
   "execution_count": 11,
   "outputs": [
    {
     "name": "stdout",
     "output_type": "stream",
     "text": [
      "[\n",
      "  {\n",
      "    \"Salience\": 0.1722453236579895, \n",
      "    \"name\": \"GEM Connect\", \n",
      "    \"type\": \"OTHER\"\n",
      "  }, \n",
      "  {\n",
      "    \"Salience\": 0.12458782643079758, \n",
      "    \"mid\": \"/m/02lc8s\", \n",
      "    \"name\": \"Deutsche Bank\", \n",
      "    \"type\": \"ORGANIZATION\", \n",
      "    \"wikipedia_url\": \"https://en.wikipedia.org/wiki/Deutsche_Bank\"\n",
      "  }, \n",
      "  {\n",
      "    \"Salience\": 0.07987216114997864, \n",
      "    \"name\": \"launch\", \n",
      "    \"type\": \"EVENT\"\n",
      "  }, \n",
      "  {\n",
      "    \"Salience\": 0.06634209305047989, \n",
      "    \"mid\": \"/m/02_cz4\", \n",
      "    \"name\": \"FX\", \n",
      "    \"type\": \"ORGANIZATION\", \n",
      "    \"wikipedia_url\": \"https://en.wikipedia.org/wiki/Foreign_exchange_market\"\n",
      "  }, \n",
      "  {\n",
      "    \"Salience\": 0.04941710829734802, \n",
      "    \"name\": \"Currencies\", \n",
      "    \"type\": \"OTHER\"\n",
      "  }, \n",
      "  {\n",
      "    \"Salience\": 0.0427037850022316, \n",
      "    \"name\": \"payments\", \n",
      "    \"type\": \"OTHER\"\n",
      "  }, \n",
      "  {\n",
      "    \"Salience\": 0.0427037850022316, \n",
      "    \"name\": \"markets\", \n",
      "    \"type\": \"OTHER\"\n",
      "  }, \n",
      "  {\n",
      "    \"Salience\": 0.032725028693675995, \n",
      "    \"name\": \"collections\", \n",
      "    \"type\": \"WORK_OF_ART\"\n",
      "  }, \n",
      "  {\n",
      "    \"Salience\": 0.032725028693675995, \n",
      "    \"name\": \"capital restrictions\", \n",
      "    \"type\": \"OTHER\"\n",
      "  }, \n",
      "  {\n",
      "    \"Salience\": 0.028798609972000122, \n",
      "    \"name\": \"funding\", \n",
      "    \"type\": \"OTHER\"\n",
      "  }, \n",
      "  {\n",
      "    \"Salience\": 0.028798609972000122, \n",
      "    \"name\": \"workflow challenges\", \n",
      "    \"type\": \"OTHER\"\n",
      "  }, \n",
      "  {\n",
      "    \"Salience\": 0.02782873623073101, \n",
      "    \"mid\": \"/m/055yrc\", \n",
      "    \"name\": \"APAC\", \n",
      "    \"type\": \"OTHER\", \n",
      "    \"wikipedia_url\": \"https://en.wikipedia.org/wiki/Asia-Pacific\"\n",
      "  }, \n",
      "  {\n",
      "    \"Salience\": 0.012284832075238228, \n",
      "    \"mid\": \"/m/01bs4t\", \n",
      "    \"name\": \"Corporate Bank\", \n",
      "    \"type\": \"ORGANIZATION\", \n",
      "    \"wikipedia_url\": \"https://en.wikipedia.org/wiki/Commercial_bank\"\n",
      "  }, \n",
      "  {\n",
      "    \"Salience\": 0.012284832075238228, \n",
      "    \"mid\": \"/m/017ql\", \n",
      "    \"name\": \"bank\\u00eds\", \n",
      "    \"type\": \"ORGANIZATION\", \n",
      "    \"wikipedia_url\": \"https://en.wikipedia.org/wiki/Bank\"\n",
      "  }, \n",
      "  {\n",
      "    \"Salience\": 0.007876972667872906, \n",
      "    \"name\": \"markets\", \n",
      "    \"type\": \"OTHER\"\n",
      "  }, \n",
      "  {\n",
      "    \"Salience\": 0.007075189612805843, \n",
      "    \"name\": \"clients\", \n",
      "    \"type\": \"PERSON\"\n",
      "  }, \n",
      "  {\n",
      "    \"Salience\": 0.006588845979422331, \n",
      "    \"name\": \"treasury processes\", \n",
      "    \"type\": \"OTHER\"\n",
      "  }, \n",
      "  {\n",
      "    \"Salience\": 0.006588845979422331, \n",
      "    \"name\": \"processes\", \n",
      "    \"type\": \"OTHER\"\n",
      "  }, \n",
      "  {\n",
      "    \"Salience\": 0.006010690238326788, \n",
      "    \"name\": \"workflows\", \n",
      "    \"type\": \"OTHER\"\n",
      "  }, \n",
      "  {\n",
      "    \"Salience\": 0.006010690238326788, \n",
      "    \"name\": \"Fixed Income\", \n",
      "    \"type\": \"OTHER\"\n",
      "  }, \n",
      "  {\n",
      "    \"Salience\": 0.006010690238326788, \n",
      "    \"name\": \"capital restrictions\", \n",
      "    \"type\": \"OTHER\"\n",
      "  }, \n",
      "  {\n",
      "    \"Salience\": 0.005337998736649752, \n",
      "    \"name\": \"payments\", \n",
      "    \"type\": \"OTHER\"\n",
      "  }, \n",
      "  {\n",
      "    \"Salience\": 0.005319397896528244, \n",
      "    \"name\": \"combination\", \n",
      "    \"type\": \"OTHER\"\n",
      "  }, \n",
      "  {\n",
      "    \"Salience\": 0.005291492212563753, \n",
      "    \"name\": \"markets\", \n",
      "    \"type\": \"OTHER\"\n",
      "  }, \n",
      "  {\n",
      "    \"Salience\": 0.005291492212563753, \n",
      "    \"name\": \"payment\", \n",
      "    \"type\": \"OTHER\"\n",
      "  }, \n",
      "  {\n",
      "    \"Salience\": 0.005280688405036926, \n",
      "    \"name\": \"money\", \n",
      "    \"type\": \"OTHER\"\n",
      "  }, \n",
      "  {\n",
      "    \"Salience\": 0.004973653703927994, \n",
      "    \"name\": \"treasurers\", \n",
      "    \"type\": \"PERSON\"\n",
      "  }, \n",
      "  {\n",
      "    \"Salience\": 0.004884703084826469, \n",
      "    \"name\": \"payments\", \n",
      "    \"type\": \"OTHER\"\n",
      "  }, \n",
      "  {\n",
      "    \"Salience\": 0.0048737721517682076, \n",
      "    \"name\": \"payments\", \n",
      "    \"type\": \"OTHER\"\n",
      "  }, \n",
      "  {\n",
      "    \"Salience\": 0.004752236884087324, \n",
      "    \"name\": \"solution\", \n",
      "    \"type\": \"OTHER\"\n",
      "  }, \n",
      "  {\n",
      "    \"Salience\": 0.004752236884087324, \n",
      "    \"name\": \"hedge\", \n",
      "    \"type\": \"OTHER\"\n",
      "  }, \n",
      "  {\n",
      "    \"Salience\": 0.004752236884087324, \n",
      "    \"name\": \"clients\", \n",
      "    \"type\": \"PERSON\"\n",
      "  }, \n",
      "  {\n",
      "    \"Salience\": 0.004501101095229387, \n",
      "    \"name\": \"business units\", \n",
      "    \"type\": \"OTHER\"\n",
      "  }, \n",
      "  {\n",
      "    \"Salience\": 0.004425207618623972, \n",
      "    \"name\": \"liquidity\", \n",
      "    \"type\": \"OTHER\"\n",
      "  }, \n",
      "  {\n",
      "    \"Salience\": 0.004425207618623972, \n",
      "    \"name\": \"execution\", \n",
      "    \"type\": \"OTHER\"\n",
      "  }, \n",
      "  {\n",
      "    \"Salience\": 0.004096094984561205, \n",
      "    \"name\": \"liquidity\", \n",
      "    \"type\": \"OTHER\"\n",
      "  }, \n",
      "  {\n",
      "    \"Salience\": 0.004075730685144663, \n",
      "    \"name\": \"execution\", \n",
      "    \"type\": \"OTHER\"\n",
      "  }, \n",
      "  {\n",
      "    \"Salience\": 0.0040365117602050304, \n",
      "    \"name\": \"components\", \n",
      "    \"type\": \"OTHER\"\n",
      "  }, \n",
      "  {\n",
      "    \"Salience\": 0.0037260157987475395, \n",
      "    \"name\": \"collections\", \n",
      "    \"type\": \"OTHER\"\n",
      "  }, \n",
      "  {\n",
      "    \"Salience\": 0.003660617396235466, \n",
      "    \"name\": \"emerging markets\", \n",
      "    \"type\": \"OTHER\"\n",
      "  }, \n",
      "  {\n",
      "    \"Salience\": 0.0036262390203773975, \n",
      "    \"name\": \"management solution\", \n",
      "    \"type\": \"OTHER\"\n",
      "  }, \n",
      "  {\n",
      "    \"Salience\": 0.003577030263841152, \n",
      "    \"name\": \"account\", \n",
      "    \"type\": \"OTHER\"\n",
      "  }, \n",
      "  {\n",
      "    \"Salience\": 0.003577030263841152, \n",
      "    \"name\": \"balance automation\", \n",
      "    \"type\": \"OTHER\"\n",
      "  }, \n",
      "  {\n",
      "    \"Salience\": 0.003577030263841152, \n",
      "    \"name\": \"cases\", \n",
      "    \"type\": \"OTHER\"\n",
      "  }, \n",
      "  {\n",
      "    \"Salience\": 0.0035458379425108433, \n",
      "    \"name\": \"tool\", \n",
      "    \"type\": \"OTHER\"\n",
      "  }, \n",
      "  {\n",
      "    \"Salience\": 0.003287283470854163, \n",
      "    \"name\": \"clients\", \n",
      "    \"type\": \"PERSON\"\n",
      "  }, \n",
      "  {\n",
      "    \"Salience\": 0.0032820156775414944, \n",
      "    \"name\": \"payment objectives\", \n",
      "    \"type\": \"OTHER\"\n",
      "  }, \n",
      "  {\n",
      "    \"Salience\": 0.0032730218954384327, \n",
      "    \"name\": \"FX hedge contracts\", \n",
      "    \"type\": \"OTHER\"\n",
      "  }, \n",
      "  {\n",
      "    \"Salience\": 0.0032730218954384327, \n",
      "    \"name\": \"hedging costs\", \n",
      "    \"type\": \"OTHER\"\n",
      "  }, \n",
      "  {\n",
      "    \"Salience\": 0.0032730218954384327, \n",
      "    \"name\": \"settlements\", \n",
      "    \"type\": \"OTHER\"\n",
      "  }, \n",
      "  {\n",
      "    \"Salience\": 0.0032730218954384327, \n",
      "    \"name\": \"reconciliation\", \n",
      "    \"type\": \"OTHER\"\n",
      "  }, \n",
      "  {\n",
      "    \"Salience\": 0.0032730218954384327, \n",
      "    \"name\": \"efficiency\", \n",
      "    \"type\": \"OTHER\"\n",
      "  }, \n",
      "  {\n",
      "    \"Salience\": 0.0032656919211149216, \n",
      "    \"name\": \"receipts\", \n",
      "    \"type\": \"OTHER\"\n",
      "  }, \n",
      "  {\n",
      "    \"Salience\": 0.0030609078239649534, \n",
      "    \"name\": \"currency risk\", \n",
      "    \"type\": \"OTHER\"\n",
      "  }, \n",
      "  {\n",
      "    \"Salience\": 0.0030609078239649534, \n",
      "    \"name\": \"processes\", \n",
      "    \"type\": \"OTHER\"\n",
      "  }, \n",
      "  {\n",
      "    \"Salience\": 0.002978688105940819, \n",
      "    \"name\": \"GEM Connect\\u00eds\", \n",
      "    \"type\": \"OTHER\"\n",
      "  }, \n",
      "  {\n",
      "    \"Salience\": 0.002791875507682562, \n",
      "    \"name\": \"Fixed Income\", \n",
      "    \"type\": \"OTHER\"\n",
      "  }, \n",
      "  {\n",
      "    \"Salience\": 0.002452307613566518, \n",
      "    \"name\": \"problems\", \n",
      "    \"type\": \"OTHER\"\n",
      "  }, \n",
      "  {\n",
      "    \"Salience\": 0.002452307613566518, \n",
      "    \"name\": \"transactions\", \n",
      "    \"type\": \"OTHER\"\n",
      "  }, \n",
      "  {\n",
      "    \"Salience\": 0.0021365934517234564, \n",
      "    \"name\": \"liquidity\", \n",
      "    \"type\": \"OTHER\"\n",
      "  }, \n",
      "  {\n",
      "    \"Salience\": 0.0021220613270998, \n",
      "    \"name\": \"Korea\", \n",
      "    \"type\": \"LOCATION\"\n",
      "  }, \n",
      "  {\n",
      "    \"Salience\": 0.0021220613270998, \n",
      "    \"mid\": \"/m/07f1x\", \n",
      "    \"name\": \"Thailand\", \n",
      "    \"type\": \"LOCATION\", \n",
      "    \"wikipedia_url\": \"https://en.wikipedia.org/wiki/Thailand\"\n",
      "  }, \n",
      "  {\n",
      "    \"Salience\": 0.0021220613270998, \n",
      "    \"mid\": \"/m/03rk0\", \n",
      "    \"name\": \"India\", \n",
      "    \"type\": \"LOCATION\", \n",
      "    \"wikipedia_url\": \"https://en.wikipedia.org/wiki/India\"\n",
      "  }, \n",
      "  {\n",
      "    \"Salience\": 0.0021220613270998, \n",
      "    \"mid\": \"/m/06f32\", \n",
      "    \"name\": \"Taiwan\", \n",
      "    \"type\": \"LOCATION\", \n",
      "    \"wikipedia_url\": \"https://en.wikipedia.org/wiki/Taiwan\"\n",
      "  }, \n",
      "  {\n",
      "    \"Salience\": 0.0021220613270998, \n",
      "    \"name\": \"Indonesia\", \n",
      "    \"type\": \"LOCATION\"\n",
      "  }, \n",
      "  {\n",
      "    \"Salience\": 0.0021220613270998, \n",
      "    \"mid\": \"/m/05v8c\", \n",
      "    \"name\": \"Philippines\", \n",
      "    \"type\": \"LOCATION\", \n",
      "    \"wikipedia_url\": \"https://en.wikipedia.org/wiki/Philippines\"\n",
      "  }, \n",
      "  {\n",
      "    \"Salience\": 0.0021220613270998, \n",
      "    \"mid\": \"/m/09pmkv\", \n",
      "    \"name\": \"Malaysia\", \n",
      "    \"type\": \"LOCATION\", \n",
      "    \"wikipedia_url\": \"https://en.wikipedia.org/wiki/Malaysia\"\n",
      "  }, \n",
      "  {\n",
      "    \"Salience\": 0.0021220613270998, \n",
      "    \"name\": \"Mainland China\", \n",
      "    \"type\": \"LOCATION\"\n",
      "  }, \n",
      "  {\n",
      "    \"Salience\": 0.0021145627833902836, \n",
      "    \"mid\": \"/m/01b39j\", \n",
      "    \"name\": \"Target\", \n",
      "    \"type\": \"ORGANIZATION\", \n",
      "    \"wikipedia_url\": \"https://en.wikipedia.org/wiki/Target_Corporation\"\n",
      "  }, \n",
      "  {\n",
      "    \"Salience\": 0.0017484090058133006, \n",
      "    \"name\": \"client solutions\", \n",
      "    \"type\": \"OTHER\"\n",
      "  }, \n",
      "  {\n",
      "    \"Salience\": 0.0017116132657974958, \n",
      "    \"name\": \"levels\", \n",
      "    \"type\": \"OTHER\"\n",
      "  }, \n",
      "  {\n",
      "    \"Salience\": 0.0017116132657974958, \n",
      "    \"name\": \"group\", \n",
      "    \"type\": \"ORGANIZATION\"\n",
      "  }, \n",
      "  {\n",
      "    \"Salience\": 0.0017116132657974958, \n",
      "    \"name\": \"subsidiary\", \n",
      "    \"type\": \"ORGANIZATION\"\n",
      "  }, \n",
      "  {\n",
      "    \"Salience\": 0.0017096067313104868, \n",
      "    \"name\": \"order\", \n",
      "    \"type\": \"OTHER\"\n",
      "  }, \n",
      "  {\n",
      "    \"Salience\": 0.0017096067313104868, \n",
      "    \"name\": \"platform technology\", \n",
      "    \"type\": \"OTHER\"\n",
      "  }, \n",
      "  {\n",
      "    \"Salience\": 0.001608043909072876, \n",
      "    \"name\": \"markets\", \n",
      "    \"type\": \"OTHER\"\n",
      "  }, \n",
      "  {\n",
      "    \"Salience\": 0.0016054032603278756, \n",
      "    \"name\": \"Corporate Bank\", \n",
      "    \"type\": \"ORGANIZATION\"\n",
      "  }, \n",
      "  {\n",
      "    \"Salience\": 0.0014493403723463416, \n",
      "    \"name\": \"\\u00ecBy\", \n",
      "    \"type\": \"ORGANIZATION\"\n",
      "  }, \n",
      "  {\n",
      "    \"Salience\": 0.0014493403723463416, \n",
      "    \"name\": \"David Lynne\", \n",
      "    \"type\": \"PERSON\"\n",
      "  }, \n",
      "  {\n",
      "    \"Salience\": 0.0013469232944771647, \n",
      "    \"name\": \"basis risk\", \n",
      "    \"type\": \"OTHER\"\n",
      "  }, \n",
      "  {\n",
      "    \"Salience\": 0.0013469232944771647, \n",
      "    \"name\": \"execution\", \n",
      "    \"type\": \"OTHER\"\n",
      "  }, \n",
      "  {\n",
      "    \"Salience\": 0.0013469232944771647, \n",
      "    \"name\": \"open market risk\", \n",
      "    \"type\": \"OTHER\"\n",
      "  }, \n",
      "  {\n",
      "    \"Salience\": 0.0010789259104058146, \n",
      "    \"name\": \"hedge adjustment\", \n",
      "    \"type\": \"OTHER\"\n",
      "  }, \n",
      "  {\n",
      "    \"Salience\": 0.0010789259104058146, \n",
      "    \"name\": \"time zones\", \n",
      "    \"type\": \"LOCATION\"\n",
      "  }, \n",
      "  {\n",
      "    \"Salience\": 0.0010768802603706717, \n",
      "    \"name\": \"region\", \n",
      "    \"type\": \"LOCATION\"\n",
      "  }, \n",
      "  {\n",
      "    \"Salience\": 0.00099855603184551, \n",
      "    \"name\": \"Head\", \n",
      "    \"type\": \"PERSON\"\n",
      "  }, \n",
      "  {\n",
      "    \"Salience\": 0.0008381445659324527, \n",
      "    \"name\": \"role\", \n",
      "    \"type\": \"OTHER\"\n",
      "  }, \n",
      "  {\n",
      "    \"Salience\": 0.000793047365732491, \n",
      "    \"name\": \"APAC\", \n",
      "    \"type\": \"ORGANIZATION\"\n",
      "  }, \n",
      "  {\n",
      "    \"Salience\": 0.0006374730146490037, \n",
      "    \"mid\": \"/m/0j0k\", \n",
      "    \"name\": \"Asia\", \n",
      "    \"type\": \"LOCATION\", \n",
      "    \"wikipedia_url\": \"https://en.wikipedia.org/wiki/Asia\"\n",
      "  }, \n",
      "  {\n",
      "    \"Salience\": 0.0, \n",
      "    \"name\": \"one\", \n",
      "    \"type\": \"NUMBER\", \n",
      "    \"value\": \"1\"\n",
      "  }\n",
      "]\n",
      "\n"
     ]
    }
   ],
   "source": [
    "print(response_entities.text)"
   ],
   "metadata": {
    "collapsed": false,
    "pycharm": {
     "name": "#%%\n"
    }
   }
  },
  {
   "cell_type": "markdown",
   "source": [
    "#### Visualise DataForm"
   ],
   "metadata": {
    "collapsed": false
   }
  },
  {
   "cell_type": "code",
   "execution_count": 12,
   "outputs": [
    {
     "name": "stdout",
     "output_type": "stream",
     "text": [
      "    Salience                  name          type        mid  \\\n",
      "0   0.172245           GEM Connect         OTHER        NaN   \n",
      "1   0.124588         Deutsche Bank  ORGANIZATION  /m/02lc8s   \n",
      "2   0.079872                launch         EVENT        NaN   \n",
      "3   0.066342                    FX  ORGANIZATION  /m/02_cz4   \n",
      "4   0.049417            Currencies         OTHER        NaN   \n",
      "5   0.042704              payments         OTHER        NaN   \n",
      "6   0.042704               markets         OTHER        NaN   \n",
      "7   0.032725           collections   WORK_OF_ART        NaN   \n",
      "8   0.032725  capital restrictions         OTHER        NaN   \n",
      "9   0.028799               funding         OTHER        NaN   \n",
      "10  0.028799   workflow challenges         OTHER        NaN   \n",
      "11  0.027829                  APAC         OTHER  /m/055yrc   \n",
      "12  0.012285        Corporate Bank  ORGANIZATION  /m/01bs4t   \n",
      "13  0.012285                bankís  ORGANIZATION   /m/017ql   \n",
      "14  0.007877               markets         OTHER        NaN   \n",
      "15  0.007075               clients        PERSON        NaN   \n",
      "16  0.006589    treasury processes         OTHER        NaN   \n",
      "17  0.006589             processes         OTHER        NaN   \n",
      "18  0.006011             workflows         OTHER        NaN   \n",
      "19  0.006011          Fixed Income         OTHER        NaN   \n",
      "20  0.006011  capital restrictions         OTHER        NaN   \n",
      "21  0.005338              payments         OTHER        NaN   \n",
      "22  0.005319           combination         OTHER        NaN   \n",
      "23  0.005291               markets         OTHER        NaN   \n",
      "24  0.005291               payment         OTHER        NaN   \n",
      "25  0.005281                 money         OTHER        NaN   \n",
      "26  0.004974            treasurers        PERSON        NaN   \n",
      "27  0.004885              payments         OTHER        NaN   \n",
      "28  0.004874              payments         OTHER        NaN   \n",
      "29  0.004752              solution         OTHER        NaN   \n",
      "30  0.004752                 hedge         OTHER        NaN   \n",
      "31  0.004752               clients        PERSON        NaN   \n",
      "32  0.004501        business units         OTHER        NaN   \n",
      "33  0.004425             liquidity         OTHER        NaN   \n",
      "34  0.004425             execution         OTHER        NaN   \n",
      "35  0.004096             liquidity         OTHER        NaN   \n",
      "36  0.004076             execution         OTHER        NaN   \n",
      "37  0.004037            components         OTHER        NaN   \n",
      "38  0.003726           collections         OTHER        NaN   \n",
      "39  0.003661      emerging markets         OTHER        NaN   \n",
      "40  0.003626   management solution         OTHER        NaN   \n",
      "41  0.003577               account         OTHER        NaN   \n",
      "42  0.003577    balance automation         OTHER        NaN   \n",
      "43  0.003577                 cases         OTHER        NaN   \n",
      "44  0.003546                  tool         OTHER        NaN   \n",
      "45  0.003287               clients        PERSON        NaN   \n",
      "46  0.003282    payment objectives         OTHER        NaN   \n",
      "47  0.003273    FX hedge contracts         OTHER        NaN   \n",
      "48  0.003273         hedging costs         OTHER        NaN   \n",
      "49  0.003273           settlements         OTHER        NaN   \n",
      "50  0.003273        reconciliation         OTHER        NaN   \n",
      "51  0.003273            efficiency         OTHER        NaN   \n",
      "52  0.003266              receipts         OTHER        NaN   \n",
      "53  0.003061         currency risk         OTHER        NaN   \n",
      "54  0.003061             processes         OTHER        NaN   \n",
      "55  0.002979         GEM Connectís         OTHER        NaN   \n",
      "56  0.002792          Fixed Income         OTHER        NaN   \n",
      "57  0.002452              problems         OTHER        NaN   \n",
      "58  0.002452          transactions         OTHER        NaN   \n",
      "59  0.002137             liquidity         OTHER        NaN   \n",
      "60  0.002122                 Korea      LOCATION        NaN   \n",
      "61  0.002122              Thailand      LOCATION   /m/07f1x   \n",
      "62  0.002122                 India      LOCATION   /m/03rk0   \n",
      "63  0.002122                Taiwan      LOCATION   /m/06f32   \n",
      "64  0.002122             Indonesia      LOCATION        NaN   \n",
      "65  0.002122           Philippines      LOCATION   /m/05v8c   \n",
      "66  0.002122              Malaysia      LOCATION  /m/09pmkv   \n",
      "67  0.002122        Mainland China      LOCATION        NaN   \n",
      "68  0.002115                Target  ORGANIZATION  /m/01b39j   \n",
      "69  0.001748      client solutions         OTHER        NaN   \n",
      "70  0.001712                levels         OTHER        NaN   \n",
      "71  0.001712                 group  ORGANIZATION        NaN   \n",
      "72  0.001712            subsidiary  ORGANIZATION        NaN   \n",
      "73  0.001710                 order         OTHER        NaN   \n",
      "74  0.001710   platform technology         OTHER        NaN   \n",
      "75  0.001608               markets         OTHER        NaN   \n",
      "76  0.001605        Corporate Bank  ORGANIZATION        NaN   \n",
      "77  0.001449                   ìBy  ORGANIZATION        NaN   \n",
      "78  0.001449           David Lynne        PERSON        NaN   \n",
      "79  0.001347            basis risk         OTHER        NaN   \n",
      "80  0.001347             execution         OTHER        NaN   \n",
      "81  0.001347      open market risk         OTHER        NaN   \n",
      "82  0.001079      hedge adjustment         OTHER        NaN   \n",
      "83  0.001079            time zones      LOCATION        NaN   \n",
      "84  0.001077                region      LOCATION        NaN   \n",
      "85  0.000999                  Head        PERSON        NaN   \n",
      "86  0.000838                  role         OTHER        NaN   \n",
      "87  0.000793                  APAC  ORGANIZATION        NaN   \n",
      "88  0.000637                  Asia      LOCATION    /m/0j0k   \n",
      "89  0.000000                   one        NUMBER        NaN   \n",
      "\n",
      "                                        wikipedia_url value  \n",
      "0                                                 NaN   NaN  \n",
      "1         https://en.wikipedia.org/wiki/Deutsche_Bank   NaN  \n",
      "2                                                 NaN   NaN  \n",
      "3   https://en.wikipedia.org/wiki/Foreign_exchange...   NaN  \n",
      "4                                                 NaN   NaN  \n",
      "5                                                 NaN   NaN  \n",
      "6                                                 NaN   NaN  \n",
      "7                                                 NaN   NaN  \n",
      "8                                                 NaN   NaN  \n",
      "9                                                 NaN   NaN  \n",
      "10                                                NaN   NaN  \n",
      "11         https://en.wikipedia.org/wiki/Asia-Pacific   NaN  \n",
      "12      https://en.wikipedia.org/wiki/Commercial_bank   NaN  \n",
      "13                 https://en.wikipedia.org/wiki/Bank   NaN  \n",
      "14                                                NaN   NaN  \n",
      "15                                                NaN   NaN  \n",
      "16                                                NaN   NaN  \n",
      "17                                                NaN   NaN  \n",
      "18                                                NaN   NaN  \n",
      "19                                                NaN   NaN  \n",
      "20                                                NaN   NaN  \n",
      "21                                                NaN   NaN  \n",
      "22                                                NaN   NaN  \n",
      "23                                                NaN   NaN  \n",
      "24                                                NaN   NaN  \n",
      "25                                                NaN   NaN  \n",
      "26                                                NaN   NaN  \n",
      "27                                                NaN   NaN  \n",
      "28                                                NaN   NaN  \n",
      "29                                                NaN   NaN  \n",
      "30                                                NaN   NaN  \n",
      "31                                                NaN   NaN  \n",
      "32                                                NaN   NaN  \n",
      "33                                                NaN   NaN  \n",
      "34                                                NaN   NaN  \n",
      "35                                                NaN   NaN  \n",
      "36                                                NaN   NaN  \n",
      "37                                                NaN   NaN  \n",
      "38                                                NaN   NaN  \n",
      "39                                                NaN   NaN  \n",
      "40                                                NaN   NaN  \n",
      "41                                                NaN   NaN  \n",
      "42                                                NaN   NaN  \n",
      "43                                                NaN   NaN  \n",
      "44                                                NaN   NaN  \n",
      "45                                                NaN   NaN  \n",
      "46                                                NaN   NaN  \n",
      "47                                                NaN   NaN  \n",
      "48                                                NaN   NaN  \n",
      "49                                                NaN   NaN  \n",
      "50                                                NaN   NaN  \n",
      "51                                                NaN   NaN  \n",
      "52                                                NaN   NaN  \n",
      "53                                                NaN   NaN  \n",
      "54                                                NaN   NaN  \n",
      "55                                                NaN   NaN  \n",
      "56                                                NaN   NaN  \n",
      "57                                                NaN   NaN  \n",
      "58                                                NaN   NaN  \n",
      "59                                                NaN   NaN  \n",
      "60                                                NaN   NaN  \n",
      "61             https://en.wikipedia.org/wiki/Thailand   NaN  \n",
      "62                https://en.wikipedia.org/wiki/India   NaN  \n",
      "63               https://en.wikipedia.org/wiki/Taiwan   NaN  \n",
      "64                                                NaN   NaN  \n",
      "65          https://en.wikipedia.org/wiki/Philippines   NaN  \n",
      "66             https://en.wikipedia.org/wiki/Malaysia   NaN  \n",
      "67                                                NaN   NaN  \n",
      "68   https://en.wikipedia.org/wiki/Target_Corporation   NaN  \n",
      "69                                                NaN   NaN  \n",
      "70                                                NaN   NaN  \n",
      "71                                                NaN   NaN  \n",
      "72                                                NaN   NaN  \n",
      "73                                                NaN   NaN  \n",
      "74                                                NaN   NaN  \n",
      "75                                                NaN   NaN  \n",
      "76                                                NaN   NaN  \n",
      "77                                                NaN   NaN  \n",
      "78                                                NaN   NaN  \n",
      "79                                                NaN   NaN  \n",
      "80                                                NaN   NaN  \n",
      "81                                                NaN   NaN  \n",
      "82                                                NaN   NaN  \n",
      "83                                                NaN   NaN  \n",
      "84                                                NaN   NaN  \n",
      "85                                                NaN   NaN  \n",
      "86                                                NaN   NaN  \n",
      "87                                                NaN   NaN  \n",
      "88                 https://en.wikipedia.org/wiki/Asia   NaN  \n",
      "89                                                NaN     1  \n",
      "        Salience\n",
      "count  90.000000\n",
      "mean    0.011078\n",
      "std     0.025284\n",
      "min     0.000000\n",
      "25%     0.002122\n",
      "50%     0.003417\n",
      "75%     0.005312\n",
      "max     0.172245\n"
     ]
    }
   ],
   "source": [
    "data_entities = json.loads(response_entities.text)\n",
    "entities_df = pd.json_normalize(data_entities)\n",
    "\n",
    "print(entities_df)\n",
    "print(entities_df.describe())\n"
   ],
   "metadata": {
    "collapsed": false,
    "pycharm": {
     "name": "#%%\n"
    }
   }
  },
  {
   "cell_type": "markdown",
   "source": [
    "#### Visualise Scatter"
   ],
   "metadata": {
    "collapsed": false
   }
  },
  {
   "cell_type": "code",
   "source": [
    "entities_df.plot(kind='scatter', y='Salience', x='type')\n",
    "plt.show()\n"
   ],
   "metadata": {
    "collapsed": false,
    "pycharm": {
     "name": "#%%\n"
    }
   },
   "execution_count": 14,
   "outputs": [
    {
     "data": {
      "text/plain": "<Figure size 432x288 with 1 Axes>",
      "image/png": "[encoded data removed]"
     },
     "metadata": {
      "needs_background": "light"
     },
     "output_type": "display_data"
    }
   ]
  },
  {
   "cell_type": "markdown",
   "source": [
    "#### Visualise Bar"
   ],
   "metadata": {
    "collapsed": false
   }
  },
  {
   "cell_type": "code",
   "execution_count": 15,
   "outputs": [
    {
     "data": {
      "text/plain": "<Figure size 432x288 with 1 Axes>",
      "image/png": "[encoded data removed]"
     },
     "metadata": {
      "needs_background": "light"
     },
     "output_type": "display_data"
    }
   ],
   "source": [
    "entities_df.plot(kind='bar', y='Salience', x='type')\n",
    "plt.show()\n"
   ],
   "metadata": {
    "collapsed": false,
    "pycharm": {
     "name": "#%%\n"
    }
   }
  },
  {
   "cell_type": "markdown",
   "source": [
    "#### Visualise Box Percentiles:"
   ],
   "metadata": {
    "collapsed": false
   }
  },
  {
   "cell_type": "code",
   "execution_count": 16,
   "outputs": [
    {
     "data": {
      "text/plain": "<Figure size 432x288 with 1 Axes>",
      "image/png": "[encoded data removed]"
     },
     "metadata": {
      "needs_background": "light"
     },
     "output_type": "display_data"
    }
   ],
   "source": [
    "entities_df.plot.box(y='Salience')\n",
    "plt.show()"
   ],
   "metadata": {
    "collapsed": false,
    "pycharm": {
     "name": "#%%\n"
    }
   }
  }
 ],
 "metadata": {
  "kernelspec": {
   "display_name": "Python 3",
   "language": "python",
   "name": "python3"
  },
  "language_info": {
   "codemirror_mode": {
    "name": "ipython",
    "version": 2
   },
   "file_extension": ".py",
   "mimetype": "text/x-python",
   "name": "python",
   "nbconvert_exporter": "python",
   "pygments_lexer": "ipython2",
   "version": "2.7.6"
  }
 },
 "nbformat": 4,
 "nbformat_minor": 0
}